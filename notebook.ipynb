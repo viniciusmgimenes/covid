{
 "metadata": {
  "language_info": {
   "codemirror_mode": {
    "name": "ipython",
    "version": 3
   },
   "file_extension": ".py",
   "mimetype": "text/x-python",
   "name": "python",
   "nbconvert_exporter": "python",
   "pygments_lexer": "ipython3",
   "version": "3.7.3-final"
  },
  "orig_nbformat": 2,
  "kernelspec": {
   "name": "python_defaultSpec_1600526844087",
   "display_name": "Python 3.7.3 64-bit ('venv': venv)"
  }
 },
 "nbformat": 4,
 "nbformat_minor": 2,
 "cells": [
  {
   "source": [],
   "cell_type": "markdown",
   "metadata": {}
  },
  {
   "cell_type": "code",
   "execution_count": 2,
   "metadata": {},
   "outputs": [],
   "source": [
    "import requests\n",
    "import pandas as pd\n",
    "import altair as alt"
   ]
  },
  {
   "source": [
    "r=requests.get('https://covid19-brazil-api.now.sh/api/report/v1')\n",
    "result=r.json()['data']\n",
    "df= pd.DataFrame(result)\n",
    "df.head(5)"
   ],
   "cell_type": "code",
   "metadata": {},
   "execution_count": 4,
   "outputs": [
    {
     "output_type": "execute_result",
     "data": {
      "text/plain": "   uid  uf           state   cases  deaths  suspects  refuses  \\\n0   35  SP       São Paulo  924532   33678      5334      596   \n1   29  BA           Bahia  292019    6181       573       36   \n2   31  MG    Minas Gerais  265185    6574       925      104   \n3   33  RJ  Rio de Janeiro  249798   17575      1254      148   \n4   23  CE           Ceará  232602    8790       493       89   \n\n                   datetime  \n0  2020-09-18T22:34:12.231Z  \n1  2020-09-18T22:34:12.231Z  \n2  2020-09-18T22:34:12.231Z  \n3  2020-09-18T22:34:12.231Z  \n4  2020-09-18T22:34:12.231Z  ",
      "text/html": "<div>\n<style scoped>\n    .dataframe tbody tr th:only-of-type {\n        vertical-align: middle;\n    }\n\n    .dataframe tbody tr th {\n        vertical-align: top;\n    }\n\n    .dataframe thead th {\n        text-align: right;\n    }\n</style>\n<table border=\"1\" class=\"dataframe\">\n  <thead>\n    <tr style=\"text-align: right;\">\n      <th></th>\n      <th>uid</th>\n      <th>uf</th>\n      <th>state</th>\n      <th>cases</th>\n      <th>deaths</th>\n      <th>suspects</th>\n      <th>refuses</th>\n      <th>datetime</th>\n    </tr>\n  </thead>\n  <tbody>\n    <tr>\n      <th>0</th>\n      <td>35</td>\n      <td>SP</td>\n      <td>São Paulo</td>\n      <td>924532</td>\n      <td>33678</td>\n      <td>5334</td>\n      <td>596</td>\n      <td>2020-09-18T22:34:12.231Z</td>\n    </tr>\n    <tr>\n      <th>1</th>\n      <td>29</td>\n      <td>BA</td>\n      <td>Bahia</td>\n      <td>292019</td>\n      <td>6181</td>\n      <td>573</td>\n      <td>36</td>\n      <td>2020-09-18T22:34:12.231Z</td>\n    </tr>\n    <tr>\n      <th>2</th>\n      <td>31</td>\n      <td>MG</td>\n      <td>Minas Gerais</td>\n      <td>265185</td>\n      <td>6574</td>\n      <td>925</td>\n      <td>104</td>\n      <td>2020-09-18T22:34:12.231Z</td>\n    </tr>\n    <tr>\n      <th>3</th>\n      <td>33</td>\n      <td>RJ</td>\n      <td>Rio de Janeiro</td>\n      <td>249798</td>\n      <td>17575</td>\n      <td>1254</td>\n      <td>148</td>\n      <td>2020-09-18T22:34:12.231Z</td>\n    </tr>\n    <tr>\n      <th>4</th>\n      <td>23</td>\n      <td>CE</td>\n      <td>Ceará</td>\n      <td>232602</td>\n      <td>8790</td>\n      <td>493</td>\n      <td>89</td>\n      <td>2020-09-18T22:34:12.231Z</td>\n    </tr>\n  </tbody>\n</table>\n</div>"
     },
     "metadata": {},
     "execution_count": 4
    }
   ]
  },
  {
   "source": [
    "# covid\n",
    "## mortes\n",
    "\n",
    "Numero de mortos por estado"
   ],
   "cell_type": "markdown",
   "metadata": {}
  },
  {
   "cell_type": "code",
   "execution_count": 9,
   "metadata": {},
   "outputs": [
    {
     "output_type": "execute_result",
     "data": {
      "text/html": "\n<div id=\"altair-viz-8bc7cf61003743c9891e6b6bb6af22da\"></div>\n<script type=\"text/javascript\">\n  (function(spec, embedOpt){\n    let outputDiv = document.currentScript.previousElementSibling;\n    if (outputDiv.id !== \"altair-viz-8bc7cf61003743c9891e6b6bb6af22da\") {\n      outputDiv = document.getElementById(\"altair-viz-8bc7cf61003743c9891e6b6bb6af22da\");\n    }\n    const paths = {\n      \"vega\": \"https://cdn.jsdelivr.net/npm//vega@5?noext\",\n      \"vega-lib\": \"https://cdn.jsdelivr.net/npm//vega-lib?noext\",\n      \"vega-lite\": \"https://cdn.jsdelivr.net/npm//vega-lite@4.8.1?noext\",\n      \"vega-embed\": \"https://cdn.jsdelivr.net/npm//vega-embed@6?noext\",\n    };\n\n    function loadScript(lib) {\n      return new Promise(function(resolve, reject) {\n        var s = document.createElement('script');\n        s.src = paths[lib];\n        s.async = true;\n        s.onload = () => resolve(paths[lib]);\n        s.onerror = () => reject(`Error loading script: ${paths[lib]}`);\n        document.getElementsByTagName(\"head\")[0].appendChild(s);\n      });\n    }\n\n    function showError(err) {\n      outputDiv.innerHTML = `<div class=\"error\" style=\"color:red;\">${err}</div>`;\n      throw err;\n    }\n\n    function displayChart(vegaEmbed) {\n      vegaEmbed(outputDiv, spec, embedOpt)\n        .catch(err => showError(`Javascript Error: ${err.message}<br>This usually means there's a typo in your chart specification. See the javascript console for the full traceback.`));\n    }\n\n    if(typeof define === \"function\" && define.amd) {\n      requirejs.config({paths});\n      require([\"vega-embed\"], displayChart, err => showError(`Error loading script: ${err.message}`));\n    } else if (typeof vegaEmbed === \"function\") {\n      displayChart(vegaEmbed);\n    } else {\n      loadScript(\"vega\")\n        .then(() => loadScript(\"vega-lite\"))\n        .then(() => loadScript(\"vega-embed\"))\n        .catch(showError)\n        .then(() => displayChart(vegaEmbed));\n    }\n  })({\"config\": {\"view\": {\"continuousWidth\": 400, \"continuousHeight\": 300}}, \"data\": {\"name\": \"data-1fcc1e051cb41e1be3f0d57851586384\"}, \"mark\": \"bar\", \"encoding\": {\"x\": {\"type\": \"quantitative\", \"field\": \"deaths\"}, \"y\": {\"type\": \"nominal\", \"field\": \"state\", \"sort\": \"-x\"}}, \"$schema\": \"https://vega.github.io/schema/vega-lite/v4.8.1.json\", \"datasets\": {\"data-1fcc1e051cb41e1be3f0d57851586384\": [{\"uid\": 35, \"uf\": \"SP\", \"state\": \"S\\u00e3o Paulo\", \"cases\": 924532, \"deaths\": 33678, \"suspects\": 5334, \"refuses\": 596, \"datetime\": \"2020-09-18T22:34:12.231Z\"}, {\"uid\": 29, \"uf\": \"BA\", \"state\": \"Bahia\", \"cases\": 292019, \"deaths\": 6181, \"suspects\": 573, \"refuses\": 36, \"datetime\": \"2020-09-18T22:34:12.231Z\"}, {\"uid\": 31, \"uf\": \"MG\", \"state\": \"Minas Gerais\", \"cases\": 265185, \"deaths\": 6574, \"suspects\": 925, \"refuses\": 104, \"datetime\": \"2020-09-18T22:34:12.231Z\"}, {\"uid\": 33, \"uf\": \"RJ\", \"state\": \"Rio de Janeiro\", \"cases\": 249798, \"deaths\": 17575, \"suspects\": 1254, \"refuses\": 148, \"datetime\": \"2020-09-18T22:34:12.231Z\"}, {\"uid\": 23, \"uf\": \"CE\", \"state\": \"Cear\\u00e1\", \"cases\": 232602, \"deaths\": 8790, \"suspects\": 493, \"refuses\": 89, \"datetime\": \"2020-09-18T22:34:12.231Z\"}, {\"uid\": 15, \"uf\": \"PA\", \"state\": \"Par\\u00e1\", \"cases\": 219220, \"deaths\": 6438, \"suspects\": 43, \"refuses\": 23, \"datetime\": \"2020-09-18T22:34:12.231Z\"}, {\"uid\": 42, \"uf\": \"SC\", \"state\": \"Santa Catarina\", \"cases\": 204166, \"deaths\": 2627, \"suspects\": 346, \"refuses\": 47, \"datetime\": \"2020-09-18T22:34:12.231Z\"}, {\"uid\": 53, \"uf\": \"DF\", \"state\": \"Distrito Federal\", \"cases\": 181919, \"deaths\": 3037, \"suspects\": 327, \"refuses\": 107, \"datetime\": \"2020-09-18T22:34:12.231Z\"}, {\"uid\": 52, \"uf\": \"GO\", \"state\": \"Goi\\u00e1s\", \"cases\": 180926, \"deaths\": 4092, \"suspects\": 353, \"refuses\": 55, \"datetime\": \"2020-09-18T22:34:12.231Z\"}, {\"uid\": 43, \"uf\": \"RS\", \"state\": \"Rio Grande do Sul\", \"cases\": 170749, \"deaths\": 4318, \"suspects\": 416, \"refuses\": 330, \"datetime\": \"2020-09-18T22:34:12.231Z\"}, {\"uid\": 21, \"uf\": \"MA\", \"state\": \"Maranh\\u00e3o\", \"cases\": 166580, \"deaths\": 3632, \"suspects\": 125, \"refuses\": 13, \"datetime\": \"2020-09-18T22:34:12.231Z\"}, {\"uid\": 41, \"uf\": \"PR\", \"state\": \"Paran\\u00e1\", \"cases\": 161922, \"deaths\": 4067, \"suspects\": 400, \"refuses\": 119, \"datetime\": \"2020-09-18T22:34:12.231Z\"}, {\"uid\": 26, \"uf\": \"PE\", \"state\": \"Pernambuco\", \"cases\": 140235, \"deaths\": 7971, \"suspects\": 89, \"refuses\": 23, \"datetime\": \"2020-09-18T22:34:12.231Z\"}, {\"uid\": 13, \"uf\": \"AM\", \"state\": \"Amazonas\", \"cases\": 130359, \"deaths\": 3950, \"suspects\": 18, \"refuses\": 26, \"datetime\": \"2020-09-18T22:34:12.231Z\"}, {\"uid\": 32, \"uf\": \"ES\", \"state\": \"Esp\\u00edrito Santo\", \"cases\": 123272, \"deaths\": 3404, \"suspects\": 71, \"refuses\": 21, \"datetime\": \"2020-09-18T22:34:12.231Z\"}, {\"uid\": 25, \"uf\": \"PB\", \"state\": \"Para\\u00edba\", \"cases\": 115966, \"deaths\": 2684, \"suspects\": 85, \"refuses\": 11, \"datetime\": \"2020-09-18T22:34:12.231Z\"}, {\"uid\": 51, \"uf\": \"MT\", \"state\": \"Mato Grosso\", \"cases\": 111628, \"deaths\": 3200, \"suspects\": 45, \"refuses\": 8, \"datetime\": \"2020-09-18T22:34:12.231Z\"}, {\"uid\": 22, \"uf\": \"PI\", \"state\": \"Piau\\u00ed\", \"cases\": 89443, \"deaths\": 2012, \"suspects\": 12, \"refuses\": 2, \"datetime\": \"2020-09-18T22:34:12.231Z\"}, {\"uid\": 27, \"uf\": \"AL\", \"state\": \"Alagoas\", \"cases\": 83298, \"deaths\": 2008, \"suspects\": 43, \"refuses\": 22, \"datetime\": \"2020-09-18T22:34:12.231Z\"}, {\"uid\": 28, \"uf\": \"SE\", \"state\": \"Sergipe\", \"cases\": 75664, \"deaths\": 1972, \"suspects\": 15, \"refuses\": 11, \"datetime\": \"2020-09-18T22:34:12.231Z\"}, {\"uid\": 24, \"uf\": \"RN\", \"state\": \"Rio Grande do Norte\", \"cases\": 66655, \"deaths\": 2341, \"suspects\": 108, \"refuses\": 22, \"datetime\": \"2020-09-18T22:34:12.231Z\"}, {\"uid\": 50, \"uf\": \"MS\", \"state\": \"Mato Grosso do Sul\", \"cases\": 62817, \"deaths\": 1148, \"suspects\": 93, \"refuses\": 26, \"datetime\": \"2020-09-18T22:34:12.231Z\"}, {\"uid\": 17, \"uf\": \"TO\", \"state\": \"Tocantins\", \"cases\": 62498, \"deaths\": 850, \"suspects\": 13, \"refuses\": 0, \"datetime\": \"2020-09-18T22:34:12.231Z\"}, {\"uid\": 11, \"uf\": \"RO\", \"state\": \"Rond\\u00f4nia\", \"cases\": 62495, \"deaths\": 1294, \"suspects\": 61, \"refuses\": 2, \"datetime\": \"2020-09-18T22:34:12.231Z\"}, {\"uid\": 14, \"uf\": \"RR\", \"state\": \"Roraima\", \"cases\": 47692, \"deaths\": 613, \"suspects\": 9, \"refuses\": 0, \"datetime\": \"2020-09-18T22:34:12.231Z\"}, {\"uid\": 16, \"uf\": \"AP\", \"state\": \"Amap\\u00e1\", \"cases\": 46601, \"deaths\": 690, \"suspects\": 15, \"refuses\": 0, \"datetime\": \"2020-09-18T22:34:12.231Z\"}, {\"uid\": 12, \"uf\": \"AC\", \"state\": \"Acre\", \"cases\": 26942, \"deaths\": 647, \"suspects\": 12, \"refuses\": 0, \"datetime\": \"2020-09-18T22:34:12.231Z\"}]}}, {\"mode\": \"vega-lite\"});\n</script>",
      "text/plain": "alt.Chart(...)"
     },
     "metadata": {},
     "execution_count": 9
    }
   ],
   "source": [
    "alt.Chart(df).mark_bar().encode(\n",
    "    x='deaths',\n",
    "    y=alt.Y('state', sort='-x'),\n",
    ")"
   ]
  },
  {
   "cell_type": "code",
   "execution_count": 12,
   "metadata": {},
   "outputs": [
    {
     "output_type": "execute_result",
     "data": {
      "text/plain": "                country  cases  confirmed  deaths  recovered  \\\n0           Afghanistan   4906      38919    1437    32576.0   \n1               Albania   4889      12073     353     6831.0   \n2               Algeria  12936      49413    1659    34818.0   \n3               Andorra    347       1564      53     1164.0   \n4                Angola   2258       3848     147     1443.0   \n..                  ...    ...        ...     ...        ...   \n183  West Bank and Gaza  11304      35003     253    23446.0   \n184      Western Sahara      1         10       1        8.0   \n185               Yemen    218       2024     585     1221.0   \n186              Zambia    486      14022     329    13207.0   \n187            Zimbabwe   1540       7647     224     5883.0   \n\n                   updated_at  \n0    2020-09-19T14:22:56.000Z  \n1    2020-09-19T14:22:56.000Z  \n2    2020-09-19T14:22:56.000Z  \n3    2020-09-19T14:22:56.000Z  \n4    2020-09-19T14:22:56.000Z  \n..                        ...  \n183  2020-09-19T14:22:56.000Z  \n184  2020-09-19T14:22:56.000Z  \n185  2020-09-19T14:22:56.000Z  \n186  2020-09-19T14:22:56.000Z  \n187  2020-09-19T14:22:56.000Z  \n\n[188 rows x 6 columns]",
      "text/html": "<div>\n<style scoped>\n    .dataframe tbody tr th:only-of-type {\n        vertical-align: middle;\n    }\n\n    .dataframe tbody tr th {\n        vertical-align: top;\n    }\n\n    .dataframe thead th {\n        text-align: right;\n    }\n</style>\n<table border=\"1\" class=\"dataframe\">\n  <thead>\n    <tr style=\"text-align: right;\">\n      <th></th>\n      <th>country</th>\n      <th>cases</th>\n      <th>confirmed</th>\n      <th>deaths</th>\n      <th>recovered</th>\n      <th>updated_at</th>\n    </tr>\n  </thead>\n  <tbody>\n    <tr>\n      <th>0</th>\n      <td>Afghanistan</td>\n      <td>4906</td>\n      <td>38919</td>\n      <td>1437</td>\n      <td>32576.0</td>\n      <td>2020-09-19T14:22:56.000Z</td>\n    </tr>\n    <tr>\n      <th>1</th>\n      <td>Albania</td>\n      <td>4889</td>\n      <td>12073</td>\n      <td>353</td>\n      <td>6831.0</td>\n      <td>2020-09-19T14:22:56.000Z</td>\n    </tr>\n    <tr>\n      <th>2</th>\n      <td>Algeria</td>\n      <td>12936</td>\n      <td>49413</td>\n      <td>1659</td>\n      <td>34818.0</td>\n      <td>2020-09-19T14:22:56.000Z</td>\n    </tr>\n    <tr>\n      <th>3</th>\n      <td>Andorra</td>\n      <td>347</td>\n      <td>1564</td>\n      <td>53</td>\n      <td>1164.0</td>\n      <td>2020-09-19T14:22:56.000Z</td>\n    </tr>\n    <tr>\n      <th>4</th>\n      <td>Angola</td>\n      <td>2258</td>\n      <td>3848</td>\n      <td>147</td>\n      <td>1443.0</td>\n      <td>2020-09-19T14:22:56.000Z</td>\n    </tr>\n    <tr>\n      <th>...</th>\n      <td>...</td>\n      <td>...</td>\n      <td>...</td>\n      <td>...</td>\n      <td>...</td>\n      <td>...</td>\n    </tr>\n    <tr>\n      <th>183</th>\n      <td>West Bank and Gaza</td>\n      <td>11304</td>\n      <td>35003</td>\n      <td>253</td>\n      <td>23446.0</td>\n      <td>2020-09-19T14:22:56.000Z</td>\n    </tr>\n    <tr>\n      <th>184</th>\n      <td>Western Sahara</td>\n      <td>1</td>\n      <td>10</td>\n      <td>1</td>\n      <td>8.0</td>\n      <td>2020-09-19T14:22:56.000Z</td>\n    </tr>\n    <tr>\n      <th>185</th>\n      <td>Yemen</td>\n      <td>218</td>\n      <td>2024</td>\n      <td>585</td>\n      <td>1221.0</td>\n      <td>2020-09-19T14:22:56.000Z</td>\n    </tr>\n    <tr>\n      <th>186</th>\n      <td>Zambia</td>\n      <td>486</td>\n      <td>14022</td>\n      <td>329</td>\n      <td>13207.0</td>\n      <td>2020-09-19T14:22:56.000Z</td>\n    </tr>\n    <tr>\n      <th>187</th>\n      <td>Zimbabwe</td>\n      <td>1540</td>\n      <td>7647</td>\n      <td>224</td>\n      <td>5883.0</td>\n      <td>2020-09-19T14:22:56.000Z</td>\n    </tr>\n  </tbody>\n</table>\n<p>188 rows × 6 columns</p>\n</div>"
     },
     "metadata": {},
     "execution_count": 12
    }
   ],
   "source": [
    "r=requests.get('https://covid19-brazil-api.now.sh/api/report/v1/countries')\n",
    "result=r.json()['data']\n",
    "df_countries= pd.DataFrame(result)\n",
    "df_countries"
   ]
  },
  {
   "cell_type": "code",
   "execution_count": 15,
   "metadata": {},
   "outputs": [],
   "source": [
    "# Filtrando top 10 por mortes\n",
    "df_countries_top10=df_countries.sort_values(by=['deaths'], ascending=False).head(10)"
   ]
  },
  {
   "cell_type": "code",
   "execution_count": 24,
   "metadata": {},
   "outputs": [
    {
     "output_type": "execute_result",
     "data": {
      "text/html": "\n<div id=\"altair-viz-57cb88303c1a4df6835dcae1cbc690b8\"></div>\n<script type=\"text/javascript\">\n  (function(spec, embedOpt){\n    let outputDiv = document.currentScript.previousElementSibling;\n    if (outputDiv.id !== \"altair-viz-57cb88303c1a4df6835dcae1cbc690b8\") {\n      outputDiv = document.getElementById(\"altair-viz-57cb88303c1a4df6835dcae1cbc690b8\");\n    }\n    const paths = {\n      \"vega\": \"https://cdn.jsdelivr.net/npm//vega@5?noext\",\n      \"vega-lib\": \"https://cdn.jsdelivr.net/npm//vega-lib?noext\",\n      \"vega-lite\": \"https://cdn.jsdelivr.net/npm//vega-lite@4.8.1?noext\",\n      \"vega-embed\": \"https://cdn.jsdelivr.net/npm//vega-embed@6?noext\",\n    };\n\n    function loadScript(lib) {\n      return new Promise(function(resolve, reject) {\n        var s = document.createElement('script');\n        s.src = paths[lib];\n        s.async = true;\n        s.onload = () => resolve(paths[lib]);\n        s.onerror = () => reject(`Error loading script: ${paths[lib]}`);\n        document.getElementsByTagName(\"head\")[0].appendChild(s);\n      });\n    }\n\n    function showError(err) {\n      outputDiv.innerHTML = `<div class=\"error\" style=\"color:red;\">${err}</div>`;\n      throw err;\n    }\n\n    function displayChart(vegaEmbed) {\n      vegaEmbed(outputDiv, spec, embedOpt)\n        .catch(err => showError(`Javascript Error: ${err.message}<br>This usually means there's a typo in your chart specification. See the javascript console for the full traceback.`));\n    }\n\n    if(typeof define === \"function\" && define.amd) {\n      requirejs.config({paths});\n      require([\"vega-embed\"], displayChart, err => showError(`Error loading script: ${err.message}`));\n    } else if (typeof vegaEmbed === \"function\") {\n      displayChart(vegaEmbed);\n    } else {\n      loadScript(\"vega\")\n        .then(() => loadScript(\"vega-lite\"))\n        .then(() => loadScript(\"vega-embed\"))\n        .catch(showError)\n        .then(() => displayChart(vegaEmbed));\n    }\n  })({\"config\": {\"view\": {\"continuousWidth\": 400, \"continuousHeight\": 300}}, \"data\": {\"name\": \"data-473033ccab5e67a2a755394b790be0c9\"}, \"mark\": \"point\", \"encoding\": {\"size\": {\"type\": \"quantitative\", \"field\": \"cases\"}, \"tooltip\": [{\"type\": \"quantitative\", \"field\": \"recovered\", \"format\": \",\"}, {\"type\": \"quantitative\", \"field\": \"cases\", \"format\": \",\"}, {\"type\": \"quantitative\", \"field\": \"deaths\", \"format\": \",\"}, {\"type\": \"nominal\", \"field\": \"country\"}], \"x\": {\"type\": \"quantitative\", \"field\": \"deaths\"}, \"y\": {\"type\": \"quantitative\", \"field\": \"cases\"}}, \"$schema\": \"https://vega.github.io/schema/vega-lite/v4.8.1.json\", \"datasets\": {\"data-473033ccab5e67a2a755394b790be0c9\": [{\"country\": \"US\", \"cases\": 3975042, \"confirmed\": 6730304, \"deaths\": 198679, \"recovered\": 2556465.0, \"updated_at\": \"2020-09-19T14:22:56.000Z\"}, {\"country\": \"Brazil\", \"cases\": 461851, \"confirmed\": 4495183, \"deaths\": 135793, \"recovered\": 3897539.0, \"updated_at\": \"2020-09-19T14:22:56.000Z\"}, {\"country\": \"India\", \"cases\": 1013964, \"confirmed\": 5308014, \"deaths\": 85619, \"recovered\": 4208431.0, \"updated_at\": \"2020-09-19T14:22:56.000Z\"}, {\"country\": \"Mexico\", \"cases\": 34042, \"confirmed\": 688954, \"deaths\": 72803, \"recovered\": 582109.0, \"updated_at\": \"2020-09-19T14:22:56.000Z\"}, {\"country\": \"United Kingdom\", \"cases\": 344379, \"confirmed\": 388420, \"deaths\": 41821, \"recovered\": 2220.0, \"updated_at\": \"2020-09-19T14:22:56.000Z\"}, {\"country\": \"Italy\", \"cases\": 42457, \"confirmed\": 294932, \"deaths\": 35668, \"recovered\": 216807.0, \"updated_at\": \"2020-09-19T14:22:56.000Z\"}, {\"country\": \"Peru\", \"cases\": 130616, \"confirmed\": 756412, \"deaths\": 31283, \"recovered\": 594513.0, \"updated_at\": \"2020-09-19T14:22:56.000Z\"}, {\"country\": \"France\", \"cases\": 343374, \"confirmed\": 467519, \"deaths\": 31257, \"recovered\": 92793.0, \"updated_at\": \"2020-09-19T14:22:56.000Z\"}, {\"country\": \"Spain\", \"cases\": 459169, \"confirmed\": 640040, \"deaths\": 30495, \"recovered\": 150376.0, \"updated_at\": \"2020-09-19T14:22:56.000Z\"}, {\"country\": \"Iran\", \"cases\": 37293, \"confirmed\": 419043, \"deaths\": 24118, \"recovered\": 357632.0, \"updated_at\": \"2020-09-19T14:22:56.000Z\"}]}}, {\"mode\": \"vega-lite\"});\n</script>",
      "text/plain": "alt.Chart(...)"
     },
     "metadata": {},
     "execution_count": 24
    }
   ],
   "source": [
    "topten=alt.Chart(df_countries_top10).mark_point().encode(\n",
    "    x='deaths:Q',\n",
    "    y='cases:Q',\n",
    "    size='cases',\n",
    "    tooltip=[alt.Tooltip('recovered',format=','),\n",
    "    alt.Tooltip('cases',format=','),\n",
    "    alt.Tooltip('deaths',format=','),\n",
    "    'country'],\n",
    ")\n",
    "topten"
   ]
  },
  {
   "cell_type": "code",
   "execution_count": null,
   "metadata": {},
   "outputs": [],
   "source": []
  }
 ]
}